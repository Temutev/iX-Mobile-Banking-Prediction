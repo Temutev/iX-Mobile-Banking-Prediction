{
 "cells": [
  {
   "cell_type": "code",
   "execution_count": 1,
   "metadata": {},
   "outputs": [],
   "source": [
    "## load our libraries\n",
    "import pandas as pd\n",
    "import numpy as np\n",
    "import seaborn as sns \n",
    "import matplotlib.pyplot as plt \n",
    "import warnings\n",
    "warnings.filterwarnings('ignore')\n",
    "%matplotlib inline \n",
    "\n",
    "import catboost\n",
    "from sklearn import preprocessing \n",
    "\n",
    "\n",
    "from sklearn.model_selection import StratifiedKFold\n",
    "from sklearn.metrics import auc, classification_report, roc_auc_score\n",
    "from sklearn.metrics import accuracy_score"
   ]
  },
  {
   "cell_type": "markdown",
   "metadata": {},
   "source": [
    "### 1) Data Preparation"
   ]
  },
  {
   "cell_type": "code",
   "execution_count": 2,
   "metadata": {},
   "outputs": [
    {
     "data": {
      "text/html": [
       "<div>\n",
       "<style scoped>\n",
       "    .dataframe tbody tr th:only-of-type {\n",
       "        vertical-align: middle;\n",
       "    }\n",
       "\n",
       "    .dataframe tbody tr th {\n",
       "        vertical-align: top;\n",
       "    }\n",
       "\n",
       "    .dataframe thead th {\n",
       "        text-align: right;\n",
       "    }\n",
       "</style>\n",
       "<table border=\"1\" class=\"dataframe\">\n",
       "  <thead>\n",
       "    <tr style=\"text-align: right;\">\n",
       "      <th></th>\n",
       "      <th>ID</th>\n",
       "      <th>Person unique/random identification</th>\n",
       "    </tr>\n",
       "  </thead>\n",
       "  <tbody>\n",
       "    <tr>\n",
       "      <th>0</th>\n",
       "      <td>country_code</td>\n",
       "      <td>The country codes</td>\n",
       "    </tr>\n",
       "    <tr>\n",
       "      <th>1</th>\n",
       "      <td>region</td>\n",
       "      <td>Region_codes of a given country,.i.e., South A...</td>\n",
       "    </tr>\n",
       "    <tr>\n",
       "      <th>2</th>\n",
       "      <td>age</td>\n",
       "      <td>Individual age</td>\n",
       "    </tr>\n",
       "    <tr>\n",
       "      <th>3</th>\n",
       "      <td>FQ1</td>\n",
       "      <td>Has ATM/debit card</td>\n",
       "    </tr>\n",
       "    <tr>\n",
       "      <th>4</th>\n",
       "      <td>FQ2</td>\n",
       "      <td>Is the ATM connected to an account with your n...</td>\n",
       "    </tr>\n",
       "    <tr>\n",
       "      <th>5</th>\n",
       "      <td>FQ3</td>\n",
       "      <td>Purchased with the ATM</td>\n",
       "    </tr>\n",
       "    <tr>\n",
       "      <th>6</th>\n",
       "      <td>FQ4</td>\n",
       "      <td>Has a credit card</td>\n",
       "    </tr>\n",
       "    <tr>\n",
       "      <th>7</th>\n",
       "      <td>FQ5</td>\n",
       "      <td>Used the credit card in 12 months</td>\n",
       "    </tr>\n",
       "    <tr>\n",
       "      <th>8</th>\n",
       "      <td>FQ6</td>\n",
       "      <td>Money deposits to a bank account in the last 1...</td>\n",
       "    </tr>\n",
       "    <tr>\n",
       "      <th>9</th>\n",
       "      <td>FQ7</td>\n",
       "      <td>Money withdrawals from a bank account in the l...</td>\n",
       "    </tr>\n",
       "    <tr>\n",
       "      <th>10</th>\n",
       "      <td>FQ7</td>\n",
       "      <td>Savings in the last 12 months to start a busin...</td>\n",
       "    </tr>\n",
       "    <tr>\n",
       "      <th>11</th>\n",
       "      <td>FQ9</td>\n",
       "      <td>Savings in the last 12 months for old age</td>\n",
       "    </tr>\n",
       "    <tr>\n",
       "      <th>12</th>\n",
       "      <td>FQ10</td>\n",
       "      <td>Saved the money at a bank/financial institutions</td>\n",
       "    </tr>\n",
       "    <tr>\n",
       "      <th>13</th>\n",
       "      <td>FQ11</td>\n",
       "      <td>Save the money at groups/clubs of any informal...</td>\n",
       "    </tr>\n",
       "    <tr>\n",
       "      <th>14</th>\n",
       "      <td>FQ12</td>\n",
       "      <td>Has a loan from formal financial institutions ...</td>\n",
       "    </tr>\n",
       "    <tr>\n",
       "      <th>15</th>\n",
       "      <td>FQ13</td>\n",
       "      <td>Borrowed money for health/medical purposes in ...</td>\n",
       "    </tr>\n",
       "    <tr>\n",
       "      <th>16</th>\n",
       "      <td>FQ14</td>\n",
       "      <td>Borrowed money to start/grow business or farm</td>\n",
       "    </tr>\n",
       "    <tr>\n",
       "      <th>17</th>\n",
       "      <td>FQ15</td>\n",
       "      <td>Borrowed money from formal financial instituti...</td>\n",
       "    </tr>\n",
       "    <tr>\n",
       "      <th>18</th>\n",
       "      <td>FQ16</td>\n",
       "      <td>Borrowed money from friends, relatives, or fam...</td>\n",
       "    </tr>\n",
       "    <tr>\n",
       "      <th>19</th>\n",
       "      <td>FQ17</td>\n",
       "      <td>Borrowed money from an informal saving. I.e gr...</td>\n",
       "    </tr>\n",
       "    <tr>\n",
       "      <th>20</th>\n",
       "      <td>FQ18</td>\n",
       "      <td>What is the possibility of coming up with 1/20...</td>\n",
       "    </tr>\n",
       "    <tr>\n",
       "      <th>21</th>\n",
       "      <td>FQ19</td>\n",
       "      <td>Source of money for FQ18</td>\n",
       "    </tr>\n",
       "    <tr>\n",
       "      <th>22</th>\n",
       "      <td>FQ20</td>\n",
       "      <td>Sent/given money to friend/relative</td>\n",
       "    </tr>\n",
       "    <tr>\n",
       "      <th>23</th>\n",
       "      <td>FQ21</td>\n",
       "      <td>Received money from friend or relative</td>\n",
       "    </tr>\n",
       "    <tr>\n",
       "      <th>24</th>\n",
       "      <td>FQ22</td>\n",
       "      <td>Payments for electricity, water, or trash in t...</td>\n",
       "    </tr>\n",
       "    <tr>\n",
       "      <th>25</th>\n",
       "      <td>FQ23</td>\n",
       "      <td>salary/wages in the last 12 months</td>\n",
       "    </tr>\n",
       "    <tr>\n",
       "      <th>26</th>\n",
       "      <td>FQ24</td>\n",
       "      <td>Employed by government or public sector -12 mo...</td>\n",
       "    </tr>\n",
       "    <tr>\n",
       "      <th>27</th>\n",
       "      <td>FQ25</td>\n",
       "      <td>Received any form of financial support from th...</td>\n",
       "    </tr>\n",
       "    <tr>\n",
       "      <th>28</th>\n",
       "      <td>FQ26</td>\n",
       "      <td>Pension in the last 12 months</td>\n",
       "    </tr>\n",
       "    <tr>\n",
       "      <th>29</th>\n",
       "      <td>FQ27</td>\n",
       "      <td>Was the a/c you received money from the govern...</td>\n",
       "    </tr>\n",
       "    <tr>\n",
       "      <th>30</th>\n",
       "      <td>FQ28</td>\n",
       "      <td>Did you open the a/c to receive payments from ...</td>\n",
       "    </tr>\n",
       "    <tr>\n",
       "      <th>31</th>\n",
       "      <td>FQ29</td>\n",
       "      <td>Received money for the sale of livestock, agri...</td>\n",
       "    </tr>\n",
       "    <tr>\n",
       "      <th>32</th>\n",
       "      <td>FQ30</td>\n",
       "      <td>Was this your first a/c for transaction in FQ29</td>\n",
       "    </tr>\n",
       "    <tr>\n",
       "      <th>33</th>\n",
       "      <td>FQ31</td>\n",
       "      <td>Did you open the a/c to receive payments in FQ29</td>\n",
       "    </tr>\n",
       "    <tr>\n",
       "      <th>34</th>\n",
       "      <td>FQ32</td>\n",
       "      <td>Received money from your business in last 12 m...</td>\n",
       "    </tr>\n",
       "    <tr>\n",
       "      <th>35</th>\n",
       "      <td>FQ33</td>\n",
       "      <td>Owns a mobile phone</td>\n",
       "    </tr>\n",
       "    <tr>\n",
       "      <th>36</th>\n",
       "      <td>FQ34</td>\n",
       "      <td>Has national ID card</td>\n",
       "    </tr>\n",
       "    <tr>\n",
       "      <th>37</th>\n",
       "      <td>FQ35</td>\n",
       "      <td>Was the a/c you received money from your emplo...</td>\n",
       "    </tr>\n",
       "    <tr>\n",
       "      <th>38</th>\n",
       "      <td>FQ36</td>\n",
       "      <td>Did you open the a/c to receive the money in FQ36</td>\n",
       "    </tr>\n",
       "    <tr>\n",
       "      <th>39</th>\n",
       "      <td>FQ37</td>\n",
       "      <td>Owns a bank a/c</td>\n",
       "    </tr>\n",
       "    <tr>\n",
       "      <th>40</th>\n",
       "      <td>Target</td>\n",
       "      <td>Determine whether one has used mobile or inter...</td>\n",
       "    </tr>\n",
       "  </tbody>\n",
       "</table>\n",
       "</div>"
      ],
      "text/plain": [
       "              ID                Person unique/random identification\n",
       "0   country_code                                  The country codes\n",
       "1         region  Region_codes of a given country,.i.e., South A...\n",
       "2            age                                     Individual age\n",
       "3            FQ1                                 Has ATM/debit card\n",
       "4            FQ2  Is the ATM connected to an account with your n...\n",
       "5            FQ3                             Purchased with the ATM\n",
       "6            FQ4                                  Has a credit card\n",
       "7            FQ5                  Used the credit card in 12 months\n",
       "8            FQ6  Money deposits to a bank account in the last 1...\n",
       "9            FQ7  Money withdrawals from a bank account in the l...\n",
       "10           FQ7  Savings in the last 12 months to start a busin...\n",
       "11           FQ9          Savings in the last 12 months for old age\n",
       "12          FQ10   Saved the money at a bank/financial institutions\n",
       "13          FQ11  Save the money at groups/clubs of any informal...\n",
       "14          FQ12  Has a loan from formal financial institutions ...\n",
       "15          FQ13  Borrowed money for health/medical purposes in ...\n",
       "16          FQ14      Borrowed money to start/grow business or farm\n",
       "17          FQ15  Borrowed money from formal financial instituti...\n",
       "18          FQ16  Borrowed money from friends, relatives, or fam...\n",
       "19          FQ17  Borrowed money from an informal saving. I.e gr...\n",
       "20          FQ18  What is the possibility of coming up with 1/20...\n",
       "21          FQ19                           Source of money for FQ18\n",
       "22          FQ20                Sent/given money to friend/relative\n",
       "23          FQ21             Received money from friend or relative\n",
       "24          FQ22  Payments for electricity, water, or trash in t...\n",
       "25          FQ23                 salary/wages in the last 12 months\n",
       "26          FQ24  Employed by government or public sector -12 mo...\n",
       "27          FQ25  Received any form of financial support from th...\n",
       "28          FQ26                      Pension in the last 12 months\n",
       "29          FQ27  Was the a/c you received money from the govern...\n",
       "30          FQ28  Did you open the a/c to receive payments from ...\n",
       "31          FQ29  Received money for the sale of livestock, agri...\n",
       "32          FQ30    Was this your first a/c for transaction in FQ29\n",
       "33          FQ31   Did you open the a/c to receive payments in FQ29\n",
       "34          FQ32  Received money from your business in last 12 m...\n",
       "35          FQ33                                Owns a mobile phone\n",
       "36          FQ34                               Has national ID card\n",
       "37          FQ35  Was the a/c you received money from your emplo...\n",
       "38          FQ36  Did you open the a/c to receive the money in FQ36\n",
       "39          FQ37                                    Owns a bank a/c\n",
       "40        Target  Determine whether one has used mobile or inter..."
      ]
     },
     "execution_count": 2,
     "metadata": {},
     "output_type": "execute_result"
    }
   ],
   "source": [
    "#lets load both our train and test datasets .\n",
    "# additionally , lets also load our variable definition file\n",
    "\n",
    "train = pd.read_csv('Train.csv')\n",
    "test = pd.read_csv('Test.csv')\n",
    "vardef = pd.read_csv('VariableDefinitions.csv')\n",
    "\n",
    "# lets create a copy for both the train and test dataset \n",
    "trainCopy = train.copy()\n",
    "testCopy = test.copy()\n",
    "\n",
    "\n",
    "# lets have a look at our variable definition \n",
    "vardef"
   ]
  },
  {
   "cell_type": "code",
   "execution_count": 3,
   "metadata": {},
   "outputs": [
    {
     "data": {
      "text/html": [
       "<div>\n",
       "<style scoped>\n",
       "    .dataframe tbody tr th:only-of-type {\n",
       "        vertical-align: middle;\n",
       "    }\n",
       "\n",
       "    .dataframe tbody tr th {\n",
       "        vertical-align: top;\n",
       "    }\n",
       "\n",
       "    .dataframe thead th {\n",
       "        text-align: right;\n",
       "    }\n",
       "</style>\n",
       "<table border=\"1\" class=\"dataframe\">\n",
       "  <thead>\n",
       "    <tr style=\"text-align: right;\">\n",
       "      <th></th>\n",
       "      <th>ID</th>\n",
       "      <th>country_code</th>\n",
       "      <th>region</th>\n",
       "      <th>age</th>\n",
       "      <th>FQ1</th>\n",
       "      <th>FQ2</th>\n",
       "      <th>FQ3</th>\n",
       "      <th>FQ4</th>\n",
       "      <th>FQ5</th>\n",
       "      <th>FQ6</th>\n",
       "      <th>...</th>\n",
       "      <th>FQ27</th>\n",
       "      <th>FQ28</th>\n",
       "      <th>FQ29</th>\n",
       "      <th>FQ30</th>\n",
       "      <th>FQ31</th>\n",
       "      <th>FQ32</th>\n",
       "      <th>FQ33</th>\n",
       "      <th>FQ34</th>\n",
       "      <th>FQ37</th>\n",
       "      <th>Target</th>\n",
       "    </tr>\n",
       "  </thead>\n",
       "  <tbody>\n",
       "    <tr>\n",
       "      <th>0</th>\n",
       "      <td>ID_000J8GTZ</td>\n",
       "      <td>1</td>\n",
       "      <td>6</td>\n",
       "      <td>35.0</td>\n",
       "      <td>2</td>\n",
       "      <td>NaN</td>\n",
       "      <td>NaN</td>\n",
       "      <td>2</td>\n",
       "      <td>NaN</td>\n",
       "      <td>NaN</td>\n",
       "      <td>...</td>\n",
       "      <td>NaN</td>\n",
       "      <td>NaN</td>\n",
       "      <td>1.0</td>\n",
       "      <td>NaN</td>\n",
       "      <td>NaN</td>\n",
       "      <td>NaN</td>\n",
       "      <td>1.0</td>\n",
       "      <td>1.0</td>\n",
       "      <td>0</td>\n",
       "      <td>0</td>\n",
       "    </tr>\n",
       "    <tr>\n",
       "      <th>1</th>\n",
       "      <td>ID_000QLXZM</td>\n",
       "      <td>32</td>\n",
       "      <td>7</td>\n",
       "      <td>70.0</td>\n",
       "      <td>2</td>\n",
       "      <td>NaN</td>\n",
       "      <td>NaN</td>\n",
       "      <td>2</td>\n",
       "      <td>NaN</td>\n",
       "      <td>NaN</td>\n",
       "      <td>...</td>\n",
       "      <td>NaN</td>\n",
       "      <td>NaN</td>\n",
       "      <td>2.0</td>\n",
       "      <td>NaN</td>\n",
       "      <td>NaN</td>\n",
       "      <td>NaN</td>\n",
       "      <td>1.0</td>\n",
       "      <td>2.0</td>\n",
       "      <td>0</td>\n",
       "      <td>0</td>\n",
       "    </tr>\n",
       "    <tr>\n",
       "      <th>2</th>\n",
       "      <td>ID_001728I2</td>\n",
       "      <td>71</td>\n",
       "      <td>7</td>\n",
       "      <td>22.0</td>\n",
       "      <td>2</td>\n",
       "      <td>1.0</td>\n",
       "      <td>NaN</td>\n",
       "      <td>2</td>\n",
       "      <td>NaN</td>\n",
       "      <td>NaN</td>\n",
       "      <td>...</td>\n",
       "      <td>NaN</td>\n",
       "      <td>NaN</td>\n",
       "      <td>2.0</td>\n",
       "      <td>NaN</td>\n",
       "      <td>NaN</td>\n",
       "      <td>NaN</td>\n",
       "      <td>2.0</td>\n",
       "      <td>1.0</td>\n",
       "      <td>1</td>\n",
       "      <td>0</td>\n",
       "    </tr>\n",
       "    <tr>\n",
       "      <th>3</th>\n",
       "      <td>ID_001R7IDN</td>\n",
       "      <td>48</td>\n",
       "      <td>3</td>\n",
       "      <td>27.0</td>\n",
       "      <td>1</td>\n",
       "      <td>NaN</td>\n",
       "      <td>NaN</td>\n",
       "      <td>2</td>\n",
       "      <td>NaN</td>\n",
       "      <td>2.0</td>\n",
       "      <td>...</td>\n",
       "      <td>NaN</td>\n",
       "      <td>NaN</td>\n",
       "      <td>NaN</td>\n",
       "      <td>NaN</td>\n",
       "      <td>NaN</td>\n",
       "      <td>2.0</td>\n",
       "      <td>1.0</td>\n",
       "      <td>1.0</td>\n",
       "      <td>1</td>\n",
       "      <td>0</td>\n",
       "    </tr>\n",
       "    <tr>\n",
       "      <th>4</th>\n",
       "      <td>ID_0029QKF8</td>\n",
       "      <td>25</td>\n",
       "      <td>0</td>\n",
       "      <td>79.0</td>\n",
       "      <td>2</td>\n",
       "      <td>NaN</td>\n",
       "      <td>NaN</td>\n",
       "      <td>2</td>\n",
       "      <td>NaN</td>\n",
       "      <td>NaN</td>\n",
       "      <td>...</td>\n",
       "      <td>NaN</td>\n",
       "      <td>NaN</td>\n",
       "      <td>2.0</td>\n",
       "      <td>NaN</td>\n",
       "      <td>NaN</td>\n",
       "      <td>2.0</td>\n",
       "      <td>1.0</td>\n",
       "      <td>1.0</td>\n",
       "      <td>1</td>\n",
       "      <td>0</td>\n",
       "    </tr>\n",
       "  </tbody>\n",
       "</table>\n",
       "<p>5 rows × 42 columns</p>\n",
       "</div>"
      ],
      "text/plain": [
       "            ID  country_code  region   age  FQ1  FQ2  FQ3  FQ4  FQ5  FQ6  ...  \\\n",
       "0  ID_000J8GTZ             1       6  35.0    2  NaN  NaN    2  NaN  NaN  ...   \n",
       "1  ID_000QLXZM            32       7  70.0    2  NaN  NaN    2  NaN  NaN  ...   \n",
       "2  ID_001728I2            71       7  22.0    2  1.0  NaN    2  NaN  NaN  ...   \n",
       "3  ID_001R7IDN            48       3  27.0    1  NaN  NaN    2  NaN  2.0  ...   \n",
       "4  ID_0029QKF8            25       0  79.0    2  NaN  NaN    2  NaN  NaN  ...   \n",
       "\n",
       "   FQ27  FQ28  FQ29  FQ30  FQ31  FQ32  FQ33  FQ34  FQ37  Target  \n",
       "0   NaN   NaN   1.0   NaN   NaN   NaN   1.0   1.0     0       0  \n",
       "1   NaN   NaN   2.0   NaN   NaN   NaN   1.0   2.0     0       0  \n",
       "2   NaN   NaN   2.0   NaN   NaN   NaN   2.0   1.0     1       0  \n",
       "3   NaN   NaN   NaN   NaN   NaN   2.0   1.0   1.0     1       0  \n",
       "4   NaN   NaN   2.0   NaN   NaN   2.0   1.0   1.0     1       0  \n",
       "\n",
       "[5 rows x 42 columns]"
      ]
     },
     "execution_count": 3,
     "metadata": {},
     "output_type": "execute_result"
    }
   ],
   "source": [
    "train.head()"
   ]
  },
  {
   "cell_type": "code",
   "execution_count": 4,
   "metadata": {},
   "outputs": [
    {
     "data": {
      "text/plain": [
       "age        322\n",
       "FQ2      59322\n",
       "FQ3      62228\n",
       "FQ5      87261\n",
       "FQ6      47787\n",
       "FQ7      47826\n",
       "FQ11     24570\n",
       "FQ17     97099\n",
       "FQ19     47407\n",
       "FQ20     24679\n",
       "FQ21     24635\n",
       "FQ24     70014\n",
       "FQ35     82557\n",
       "FQ36     96963\n",
       "FQ27    105246\n",
       "FQ28    106940\n",
       "FQ29     24534\n",
       "FQ30    106331\n",
       "FQ31    107577\n",
       "FQ32     47650\n",
       "FQ33         2\n",
       "FQ34     31794\n",
       "dtype: int64"
      ]
     },
     "execution_count": 4,
     "metadata": {},
     "output_type": "execute_result"
    }
   ],
   "source": [
    "## performing feature preparation\n",
    "# our df does not have null values \n",
    "null_value_stats = train.isnull().sum(axis=0)\n",
    "null_value_stats[null_value_stats != 0]"
   ]
  },
  {
   "cell_type": "code",
   "execution_count": 6,
   "metadata": {},
   "outputs": [
    {
     "name": "stdout",
     "output_type": "stream",
     "text": [
      "The shape of the combined dataframe is: (154923, 42)\n"
     ]
    }
   ],
   "source": [
    "# Combine train and test set\n",
    "ntrain = train.shape[0] # to be used to split train and test set from the combined dataframe\n",
    "\n",
    "all_data = pd.concat((train, test)).reset_index(drop=True)\n",
    "print(f'The shape of the combined dataframe is: {all_data.shape}')"
   ]
  },
  {
   "cell_type": "code",
   "execution_count": 7,
   "metadata": {},
   "outputs": [
    {
     "name": "stdout",
     "output_type": "stream",
     "text": [
      "<class 'pandas.core.frame.DataFrame'>\n",
      "RangeIndex: 154923 entries, 0 to 154922\n",
      "Data columns (total 42 columns):\n",
      " #   Column        Non-Null Count   Dtype  \n",
      "---  ------        --------------   -----  \n",
      " 0   ID            154923 non-null  object \n",
      " 1   country_code  154923 non-null  int64  \n",
      " 2   region        154923 non-null  int64  \n",
      " 3   age           154472 non-null  float64\n",
      " 4   FQ1           154923 non-null  int64  \n",
      " 5   FQ2           69925 non-null   float64\n",
      " 6   FQ3           66146 non-null   float64\n",
      " 7   FQ4           154923 non-null  int64  \n",
      " 8   FQ5           30098 non-null   float64\n",
      " 9   FQ6           86537 non-null   float64\n",
      " 10  FQ7           86537 non-null   float64\n",
      " 11  FQ8           154923 non-null  int64  \n",
      " 12  FQ9           154923 non-null  int64  \n",
      " 13  FQ10          154923 non-null  int64  \n",
      " 14  FQ11          119788 non-null  float64\n",
      " 15  FQ12          154923 non-null  int64  \n",
      " 16  FQ13          154923 non-null  int64  \n",
      " 17  FQ14          154923 non-null  int64  \n",
      " 18  FQ15          154923 non-null  int64  \n",
      " 19  FQ16          154923 non-null  int64  \n",
      " 20  FQ17          16225 non-null   float64\n",
      " 21  FQ18          154923 non-null  int64  \n",
      " 22  FQ19          87159 non-null   float64\n",
      " 23  FQ20          119788 non-null  float64\n",
      " 24  FQ21          119788 non-null  float64\n",
      " 25  FQ22          154923 non-null  int64  \n",
      " 26  FQ23          154923 non-null  int64  \n",
      " 27  FQ24          54997 non-null   float64\n",
      " 28  FQ35          36941 non-null   float64\n",
      " 29  FQ36          16383 non-null   float64\n",
      " 30  FQ25          154923 non-null  int64  \n",
      " 31  FQ26          154923 non-null  int64  \n",
      " 32  FQ27          4643 non-null    float64\n",
      " 33  FQ28          2137 non-null    float64\n",
      " 34  FQ29          119788 non-null  float64\n",
      " 35  FQ30          2991 non-null    float64\n",
      " 36  FQ31          1233 non-null    float64\n",
      " 37  FQ32          86796 non-null   float64\n",
      " 38  FQ33          154921 non-null  float64\n",
      " 39  FQ34          109788 non-null  float64\n",
      " 40  FQ37          154923 non-null  int64  \n",
      " 41  Target        108446 non-null  float64\n",
      "dtypes: float64(23), int64(18), object(1)\n",
      "memory usage: 49.6+ MB\n"
     ]
    }
   ],
   "source": [
    "# Check the column names and datatypes\n",
    "all_data.info()"
   ]
  },
  {
   "cell_type": "code",
   "execution_count": 8,
   "metadata": {},
   "outputs": [
    {
     "data": {
      "text/plain": [
       "ID                   0\n",
       "country_code         0\n",
       "region               0\n",
       "age                451\n",
       "FQ1                  0\n",
       "FQ2              84998\n",
       "FQ3              88777\n",
       "FQ4                  0\n",
       "FQ5             124825\n",
       "FQ6              68386\n",
       "FQ7              68386\n",
       "FQ8                  0\n",
       "FQ9                  0\n",
       "FQ10                 0\n",
       "FQ11             35135\n",
       "FQ12                 0\n",
       "FQ13                 0\n",
       "FQ14                 0\n",
       "FQ15                 0\n",
       "FQ16                 0\n",
       "FQ17            138698\n",
       "FQ18                 0\n",
       "FQ19             67764\n",
       "FQ20             35135\n",
       "FQ21             35135\n",
       "FQ22                 0\n",
       "FQ23                 0\n",
       "FQ24             99926\n",
       "FQ35            117982\n",
       "FQ36            138540\n",
       "FQ25                 0\n",
       "FQ26                 0\n",
       "FQ27            150280\n",
       "FQ28            152786\n",
       "FQ29             35135\n",
       "FQ30            151932\n",
       "FQ31            153690\n",
       "FQ32             68127\n",
       "FQ33                 2\n",
       "FQ34             45135\n",
       "FQ37                 0\n",
       "Target           46477\n",
       "dtype: int64"
      ]
     },
     "execution_count": 8,
     "metadata": {},
     "output_type": "execute_result"
    }
   ],
   "source": [
    "all_data.isnull().sum()"
   ]
  },
  {
   "cell_type": "code",
   "execution_count": 10,
   "metadata": {},
   "outputs": [
    {
     "data": {
      "text/plain": [
       "False"
      ]
     },
     "execution_count": 10,
     "metadata": {},
     "output_type": "execute_result"
    }
   ],
   "source": [
    "# Fill in missing values\n",
    "for col in all_data.columns:\n",
    "    if col in all_data.columns:\n",
    "        all_data[col] = all_data[col].fillna(all_data[col].fillna(0))\n",
    "\n",
    "# Confirm that there aren't any missing values\n",
    "all_data[all_data.columns.difference(['target'])].isna().sum().any()"
   ]
  },
  {
   "cell_type": "code",
   "execution_count": 12,
   "metadata": {},
   "outputs": [
    {
     "data": {
      "text/plain": [
       "(154923, 42)"
      ]
     },
     "execution_count": 12,
     "metadata": {},
     "output_type": "execute_result"
    }
   ],
   "source": [
    "# Shape of data before encoding\n",
    "all_data.shape"
   ]
  },
  {
   "cell_type": "code",
   "execution_count": 13,
   "metadata": {},
   "outputs": [
    {
     "data": {
      "text/plain": [
       "((108446, 42), (46477, 42))"
      ]
     },
     "execution_count": 13,
     "metadata": {},
     "output_type": "execute_result"
    }
   ],
   "source": [
    "# Separate train and test data from the combined dataframe\n",
    "train_df = all_data[:ntrain]\n",
    "test_df = all_data[ntrain:]\n",
    "\n",
    "# Check the shapes of the split dataset\n",
    "train_df.shape, test_df.shape"
   ]
  },
  {
   "cell_type": "code",
   "execution_count": 14,
   "metadata": {},
   "outputs": [
    {
     "data": {
      "text/plain": [
       "Index(['ID', 'country_code', 'region', 'age', 'FQ1', 'FQ2', 'FQ3', 'FQ4',\n",
       "       'FQ5', 'FQ6', 'FQ7', 'FQ8', 'FQ9', 'FQ10', 'FQ11', 'FQ12', 'FQ13',\n",
       "       'FQ14', 'FQ15', 'FQ16', 'FQ17', 'FQ18', 'FQ19', 'FQ20', 'FQ21', 'FQ22',\n",
       "       'FQ23', 'FQ24', 'FQ35', 'FQ36', 'FQ25', 'FQ26', 'FQ27', 'FQ28', 'FQ29',\n",
       "       'FQ30', 'FQ31', 'FQ32', 'FQ33', 'FQ34', 'FQ37', 'Target'],\n",
       "      dtype='object')"
      ]
     },
     "execution_count": 14,
     "metadata": {},
     "output_type": "execute_result"
    }
   ],
   "source": [
    "train_df.columns"
   ]
  },
  {
   "cell_type": "code",
   "execution_count": 15,
   "metadata": {},
   "outputs": [],
   "source": [
    "trainId = train_df['ID']\n",
    "testId =test_df['ID']\n",
    "X= train_df.drop(['Target','ID'],axis=1)\n",
    "y= train_df['Target']\n",
    "\n",
    "test_df = test_df.drop('ID',axis=1)"
   ]
  },
  {
   "cell_type": "code",
   "execution_count": 16,
   "metadata": {},
   "outputs": [],
   "source": [
    "# cat_features\n",
    "cat_features = ['country_code','region']\n",
    "cat_features = X[cat_features]\n"
   ]
  },
  {
   "cell_type": "code",
   "execution_count": 17,
   "metadata": {},
   "outputs": [],
   "source": [
    "from sklearn.model_selection import train_test_split\n",
    "\n",
    "X_train, X_validation, y_train, y_validation = train_test_split(X, y, train_size=0.75, random_state=42)\n",
    "\n",
    "X_test = test_df"
   ]
  },
  {
   "cell_type": "code",
   "execution_count": 19,
   "metadata": {},
   "outputs": [
    {
     "data": {
      "application/vnd.jupyter.widget-view+json": {
       "model_id": "4da6b332702d4bee87743a0846f78352",
       "version_major": 2,
       "version_minor": 0
      },
      "text/plain": [
       "MetricVisualizer(layout=Layout(align_self='stretch', height='500px'))"
      ]
     },
     "metadata": {},
     "output_type": "display_data"
    }
   ],
   "source": [
    "from catboost import CatBoostClassifier, Pool, metrics, cv\n",
    "# Model Training \n",
    "model = CatBoostClassifier(\n",
    "   custom_loss=['Logloss','AUC','Accuracy'],\n",
    "    random_seed=42,\n",
    "    logging_level='Silent'\n",
    ")\n",
    "\n",
    "model.fit(\n",
    "    X_train, y_train,\n",
    "    cat_features=cat_features,\n",
    "    eval_set=(X_validation, y_validation),\n",
    "#     logging_level='Verbose',  # you can uncomment this for text output\n",
    "    plot=True\n",
    ");"
   ]
  },
  {
   "cell_type": "code",
   "execution_count": 20,
   "metadata": {},
   "outputs": [
    {
     "name": "stdout",
     "output_type": "stream",
     "text": [
      "{'random_seed': 42, 'logging_level': 'Silent', 'custom_loss': ['Logloss', 'AUC', 'Accuracy']}\n"
     ]
    }
   ],
   "source": [
    "cv_params = model.get_params()\n",
    "print(cv_params)"
   ]
  },
  {
   "cell_type": "code",
   "execution_count": 21,
   "metadata": {},
   "outputs": [
    {
     "data": {
      "application/vnd.jupyter.widget-view+json": {
       "model_id": "998864d2a9e44091b1d6fdf9c9a47fed",
       "version_major": 2,
       "version_minor": 0
      },
      "text/plain": [
       "MetricVisualizer(layout=Layout(align_self='stretch', height='500px'))"
      ]
     },
     "metadata": {},
     "output_type": "display_data"
    }
   ],
   "source": [
    "## attempting cross-validation\n",
    "\n",
    "cv_params.update({'loss_function': metrics.Logloss() })\n",
    "\n",
    "cv_data = cv(\n",
    "    Pool(X, y, cat_features=cat_features),\n",
    "    cv_params,\n",
    "    nfold = 5,\n",
    "    iterations= 1200,\n",
    "    plot=True\n",
    ")"
   ]
  },
  {
   "cell_type": "code",
   "execution_count": 22,
   "metadata": {},
   "outputs": [
    {
     "name": "stdout",
     "output_type": "stream",
     "text": [
      "Best validation AUC score is: 0.51±0.00 on step 4\n"
     ]
    }
   ],
   "source": [
    "print('Best validation AUC score is: {:.2f}±{:.2f} on step {}'.format(\n",
    "    np.max(cv_data['test-AUC-mean']),\n",
    "    cv_data['test-AUC-std'][np.argmax(cv_data['test-AUC-mean'])],\n",
    "    np.argmax(cv_data['test-AUC-mean'])\n",
    "))"
   ]
  },
  {
   "cell_type": "code",
   "execution_count": 23,
   "metadata": {},
   "outputs": [
    {
     "name": "stdout",
     "output_type": "stream",
     "text": [
      "Precise  AUC score: 0.5051431760307888\n"
     ]
    }
   ],
   "source": [
    "print('Precise  AUC score: {}'.format(np.max(cv_data['test-AUC-mean'])))"
   ]
  },
  {
   "cell_type": "code",
   "execution_count": 24,
   "metadata": {},
   "outputs": [
    {
     "name": "stdout",
     "output_type": "stream",
     "text": [
      "[0.28923255 0.27971158 0.2824904  0.28112794 0.28125496 0.27982452\n",
      " 0.28445    0.28235806 0.28162452 0.2799856 ]\n"
     ]
    }
   ],
   "source": [
    "# Model applying \n",
    "predictions = model.predict(X_test)\n",
    "predictions_probs = model.predict_proba(X_test)[:, 1]\n",
    "print(predictions_probs[:10])"
   ]
  },
  {
   "cell_type": "code",
   "execution_count": 28,
   "metadata": {},
   "outputs": [
    {
     "data": {
      "image/png": "[encoded data removed]",
      "text/plain": [
       "<Figure size 432x288 with 1 Axes>"
      ]
     },
     "metadata": {
      "needs_background": "light"
     },
     "output_type": "display_data"
    }
   ],
   "source": [
    "# # Create a submission file\n",
    "samplesubmission = pd.read_csv('SampleSubmission.csv')\n",
    "sub_file = samplesubmission.copy()\n",
    "sub_file.Target = predictions_probs\n",
    "\n",
    "# # Check the distribution of your predictions\n",
    "sns.countplot([1 if x >= 0.5 else 0 for x in sub_file.Target])\n",
    "plt.title('Predicted Variable Distribution');"
   ]
  },
  {
   "cell_type": "code",
   "execution_count": 29,
   "metadata": {},
   "outputs": [
    {
     "data": {
      "text/html": [
       "<div>\n",
       "<style scoped>\n",
       "    .dataframe tbody tr th:only-of-type {\n",
       "        vertical-align: middle;\n",
       "    }\n",
       "\n",
       "    .dataframe tbody tr th {\n",
       "        vertical-align: top;\n",
       "    }\n",
       "\n",
       "    .dataframe thead th {\n",
       "        text-align: right;\n",
       "    }\n",
       "</style>\n",
       "<table border=\"1\" class=\"dataframe\">\n",
       "  <thead>\n",
       "    <tr style=\"text-align: right;\">\n",
       "      <th></th>\n",
       "      <th>ID</th>\n",
       "      <th>Target</th>\n",
       "    </tr>\n",
       "  </thead>\n",
       "  <tbody>\n",
       "    <tr>\n",
       "      <th>0</th>\n",
       "      <td>ID_000YI58E</td>\n",
       "      <td>0.289233</td>\n",
       "    </tr>\n",
       "    <tr>\n",
       "      <th>1</th>\n",
       "      <td>ID_001SP4JF</td>\n",
       "      <td>0.279712</td>\n",
       "    </tr>\n",
       "    <tr>\n",
       "      <th>2</th>\n",
       "      <td>ID_001VOF6S</td>\n",
       "      <td>0.282490</td>\n",
       "    </tr>\n",
       "    <tr>\n",
       "      <th>3</th>\n",
       "      <td>ID_0030LULG</td>\n",
       "      <td>0.281128</td>\n",
       "    </tr>\n",
       "    <tr>\n",
       "      <th>4</th>\n",
       "      <td>ID_0037PZ3R</td>\n",
       "      <td>0.281255</td>\n",
       "    </tr>\n",
       "  </tbody>\n",
       "</table>\n",
       "</div>"
      ],
      "text/plain": [
       "            ID    Target\n",
       "0  ID_000YI58E  0.289233\n",
       "1  ID_001SP4JF  0.279712\n",
       "2  ID_001VOF6S  0.282490\n",
       "3  ID_0030LULG  0.281128\n",
       "4  ID_0037PZ3R  0.281255"
      ]
     },
     "execution_count": 29,
     "metadata": {},
     "output_type": "execute_result"
    }
   ],
   "source": [
    "# Create a csv file and upload to zindi \n",
    "\n",
    "sub_file.to_csv('Baseline.csv', index = False)\n",
    "sub_file.head()"
   ]
  },
  {
   "cell_type": "code",
   "execution_count": 30,
   "metadata": {},
   "outputs": [
    {
     "name": "stdout",
     "output_type": "stream",
     "text": [
      "Simple model validation accuracy: 0.7136\n",
      "\n",
      "Best model validation accuracy: 0.7176\n"
     ]
    }
   ],
   "source": [
    "## catboost features \n",
    "\n",
    "params = {\n",
    "    'iterations': 2000,\n",
    "    'learning_rate': 0.15,\n",
    "    'eval_metric': metrics.Accuracy(),\n",
    "    'random_seed': 42,\n",
    "    'logging_level': 'Silent',\n",
    "    'use_best_model': False\n",
    "}\n",
    "train_pool = Pool(X_train, y_train, cat_features=cat_features)\n",
    "validate_pool = Pool(X_validation, y_validation, cat_features=cat_features)\n",
    "\n",
    "model = CatBoostClassifier(**params)\n",
    "model.fit(train_pool, eval_set=validate_pool)\n",
    "\n",
    "\n",
    "best_model_params = params.copy()\n",
    "best_model_params.update({\n",
    "    'use_best_model': True\n",
    "})\n",
    "best_model = CatBoostClassifier(**best_model_params)\n",
    "best_model.fit(train_pool, eval_set=validate_pool);\n",
    "\n",
    "\n",
    "print('Simple model validation accuracy: {:.4}'.format(accuracy_score(y_validation, model.predict(X_validation))))\n",
    "print('')\n",
    "\n",
    "print('Best model validation accuracy: {:.4}'.format( accuracy_score(y_validation, best_model.predict(X_validation))))"
   ]
  },
  {
   "cell_type": "code",
   "execution_count": 31,
   "metadata": {},
   "outputs": [
    {
     "data": {
      "text/html": [
       "<div>\n",
       "<style scoped>\n",
       "    .dataframe tbody tr th:only-of-type {\n",
       "        vertical-align: middle;\n",
       "    }\n",
       "\n",
       "    .dataframe tbody tr th {\n",
       "        vertical-align: top;\n",
       "    }\n",
       "\n",
       "    .dataframe thead th {\n",
       "        text-align: right;\n",
       "    }\n",
       "</style>\n",
       "<table border=\"1\" class=\"dataframe\">\n",
       "  <thead>\n",
       "    <tr style=\"text-align: right;\">\n",
       "      <th></th>\n",
       "      <th>ID</th>\n",
       "      <th>Target</th>\n",
       "    </tr>\n",
       "  </thead>\n",
       "  <tbody>\n",
       "    <tr>\n",
       "      <th>0</th>\n",
       "      <td>ID_000YI58E</td>\n",
       "      <td>0.289233</td>\n",
       "    </tr>\n",
       "    <tr>\n",
       "      <th>1</th>\n",
       "      <td>ID_001SP4JF</td>\n",
       "      <td>0.279712</td>\n",
       "    </tr>\n",
       "    <tr>\n",
       "      <th>2</th>\n",
       "      <td>ID_001VOF6S</td>\n",
       "      <td>0.282490</td>\n",
       "    </tr>\n",
       "    <tr>\n",
       "      <th>3</th>\n",
       "      <td>ID_0030LULG</td>\n",
       "      <td>0.281128</td>\n",
       "    </tr>\n",
       "    <tr>\n",
       "      <th>4</th>\n",
       "      <td>ID_0037PZ3R</td>\n",
       "      <td>0.281255</td>\n",
       "    </tr>\n",
       "  </tbody>\n",
       "</table>\n",
       "</div>"
      ],
      "text/plain": [
       "            ID    Target\n",
       "0  ID_000YI58E  0.289233\n",
       "1  ID_001SP4JF  0.279712\n",
       "2  ID_001VOF6S  0.282490\n",
       "3  ID_0030LULG  0.281128\n",
       "4  ID_0037PZ3R  0.281255"
      ]
     },
     "execution_count": 31,
     "metadata": {},
     "output_type": "execute_result"
    }
   ],
   "source": [
    "predictions = best_model.predict_proba(X_test)[:, 1]\n",
    "sub_file.target = predictions\n",
    "\n",
    "# Create a csv file and upload to zindi \n",
    "\n",
    "sub_file.to_csv('Baseline.csv', index = False)\n",
    "sub_file.head()"
   ]
  },
  {
   "cell_type": "code",
   "execution_count": null,
   "metadata": {},
   "outputs": [],
   "source": [
    "## Has a score of 0.50234 AUC on zindi"
   ]
  }
 ],
 "metadata": {
  "kernelspec": {
   "display_name": "Python 3",
   "language": "python",
   "name": "python3"
  },
  "language_info": {
   "codemirror_mode": {
    "name": "ipython",
    "version": 3
   },
   "file_extension": ".py",
   "mimetype": "text/x-python",
   "name": "python",
   "nbconvert_exporter": "python",
   "pygments_lexer": "ipython3",
   "version": "3.8.5"
  }
 },
 "nbformat": 4,
 "nbformat_minor": 4
}
